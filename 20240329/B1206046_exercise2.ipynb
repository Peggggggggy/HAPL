{
  "nbformat": 4,
  "nbformat_minor": 0,
  "metadata": {
    "colab": {
      "provenance": []
    },
    "kernelspec": {
      "name": "python3",
      "display_name": "Python 3"
    },
    "language_info": {
      "name": "python"
    }
  },
  "cells": [
    {
      "cell_type": "code",
      "execution_count": 26,
      "metadata": {
        "colab": {
          "base_uri": "https://localhost:8080/"
        },
        "id": "lnPQBPkuwX08",
        "outputId": "fde1a8de-c243-498b-ed10-0479b4f89f12"
      },
      "outputs": [
        {
          "output_type": "stream",
          "name": "stdout",
          "text": [
            "{'姓名': '林珮慈', '性別': '女', '作業分數': [100, 100, 90], '學號': 'B1206046'}\n",
            "96.66666666666667\n"
          ]
        }
      ],
      "source": [
        "a=dict(姓名='林珮慈',性別='女',作業分數=[85,95,100,90])\n",
        "a['學號']='B1206046'\n",
        "a['作業分數'][1]=100\n",
        "del a['作業分數'][0]\n",
        "print(a)\n",
        "b=a.pop('作業分數')\n",
        "c=((b[0])+(b[1])+(b[2]))/3\n",
        "print(c)"
      ]
    }
  ]
}