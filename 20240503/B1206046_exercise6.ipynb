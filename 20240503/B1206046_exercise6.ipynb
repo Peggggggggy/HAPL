{
  "nbformat": 4,
  "nbformat_minor": 0,
  "metadata": {
    "colab": {
      "provenance": []
    },
    "kernelspec": {
      "name": "python3",
      "display_name": "Python 3"
    },
    "language_info": {
      "name": "python"
    }
  },
  "cells": [
    {
      "cell_type": "code",
      "execution_count": null,
      "metadata": {
        "colab": {
          "base_uri": "https://localhost:8080/"
        },
        "id": "T1ZZvb-V8B9W",
        "outputId": "b76d2e99-0de2-4d44-91ba-d4ddda3b51c8"
      },
      "outputs": [
        {
          "output_type": "stream",
          "name": "stdout",
          "text": [
            "聖誕樹層數:11\n",
            "           *\n",
            "          ***\n",
            "         *****\n",
            "        *******\n",
            "       *********\n",
            "      ***********\n",
            "     *************\n",
            "    ***************\n",
            "   *****************\n",
            "  *******************\n",
            " *********************\n",
            "          ***\n",
            "          ***\n",
            "          ***\n",
            "          ***\n",
            "          ***\n"
          ]
        }
      ],
      "source": [
        "a=int(input(\"聖誕樹層數:\"))\n",
        "def output(n):\n",
        " for i in range(1,(2*n+1),2):\n",
        "   print((\" \"*int((2*n-i)/2)),(i*'*'))\n",
        " for j in [3,3,3,3,3]:\n",
        "  print(\" \"*int(n-2),(j*'*'))\n",
        "output(a)"
      ]
    },
    {
      "cell_type": "code",
      "source": [
        "def output(m,n):\n",
        "  n/=(m/100)**2\n",
        "  if n<18.5:\n",
        "    bmi= \"體位:過輕\"\n",
        "  elif 18.5<=n<24:\n",
        "    bmi= \"體位:適中\"\n",
        "  elif 24<=n<27:\n",
        "    bmi= \"體位:過重\"\n",
        "  else:\n",
        "    bmi= \"體位:肥胖\"\n",
        "  return n,bmi\n",
        "try:\n",
        "  a=float(input(\"身高(公分):\"))\n",
        "  b=float(input(\"體重:\"))\n",
        "  c=output(a,b)\n",
        "  print(\"BMI:\",(c[0]))\n",
        "  print(c[1])\n",
        "except:\n",
        "  print(\"輸入內容錯誤\")"
      ],
      "metadata": {
        "colab": {
          "base_uri": "https://localhost:8080/"
        },
        "id": "2b8wE67jskv6",
        "outputId": "c59a055e-8188-49a9-ec43-05756f8a2555"
      },
      "execution_count": null,
      "outputs": [
        {
          "output_type": "stream",
          "name": "stdout",
          "text": [
            "身高(公分):160\n",
            "體重:P\n",
            "輸入內容錯誤\n"
          ]
        }
      ]
    }
  ]
}