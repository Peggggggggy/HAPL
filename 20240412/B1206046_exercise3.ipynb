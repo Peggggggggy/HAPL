{
  "nbformat": 4,
  "nbformat_minor": 0,
  "metadata": {
    "colab": {
      "provenance": []
    },
    "kernelspec": {
      "name": "python3",
      "display_name": "Python 3"
    },
    "language_info": {
      "name": "python"
    }
  },
  "cells": [
    {
      "cell_type": "code",
      "execution_count": 16,
      "metadata": {
        "colab": {
          "base_uri": "https://localhost:8080/"
        },
        "id": "DsDasTNNwfQl",
        "outputId": "dd0536ca-acf2-4bdb-accd-a9e5a586f500"
      },
      "outputs": [
        {
          "output_type": "stream",
          "name": "stdout",
          "text": [
            "體重50\n",
            "身高160\n",
            "BMI: 19.531249999999996\n",
            "體位:適中\n"
          ]
        }
      ],
      "source": [
        "a=float(input(\"體重\"))\n",
        "b=float(input(\"身高\"))\n",
        "a/=(b/100)**2\n",
        "print(\"BMI:\",(a))\n",
        "if a<18.5:\n",
        "  print(\"體位:過輕\")\n",
        "elif 18.5<=a<24:\n",
        "  print(\"體位:適中\")\n",
        "elif 24<=a<27:\n",
        "  print(\"體位:過重\")\n",
        "else:\n",
        "  print(\"體位:肥胖\")"
      ]
    },
    {
      "cell_type": "markdown",
      "source": [],
      "metadata": {
        "id": "RjJ1Zxke6mzI"
      }
    },
    {
      "cell_type": "code",
      "source": [
        "a=float(input(\"請輸入第一個數字\"))\n",
        "b=(input(\"請輸入運算符號\"))\n",
        "c=float(input(\"請輸入第二個數字\"))\n",
        "if b=='+':\n",
        "  print(a+c)\n",
        "elif b=='-':\n",
        "  print(a-c)\n",
        "elif b=='*':\n",
        "  print(a*c)\n",
        "elif b=='/':\n",
        "  print(a/c)"
      ],
      "metadata": {
        "colab": {
          "base_uri": "https://localhost:8080/"
        },
        "id": "_irLItoq4Gw7",
        "outputId": "289473d3-e45e-4ec2-a143-b58eacf34bf9"
      },
      "execution_count": 19,
      "outputs": [
        {
          "output_type": "stream",
          "name": "stdout",
          "text": [
            "請輸入第一個數字8\n",
            "請輸入運算符號*\n",
            "請輸入第二個數字2\n",
            "16.0\n"
          ]
        }
      ]
    }
  ]
}