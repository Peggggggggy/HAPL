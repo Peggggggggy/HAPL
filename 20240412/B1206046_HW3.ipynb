{
  "nbformat": 4,
  "nbformat_minor": 0,
  "metadata": {
    "colab": {
      "provenance": []
    },
    "kernelspec": {
      "name": "python3",
      "display_name": "Python 3"
    },
    "language_info": {
      "name": "python"
    }
  },
  "cells": [
    {
      "cell_type": "code",
      "execution_count": 4,
      "metadata": {
        "colab": {
          "base_uri": "https://localhost:8080/"
        },
        "id": "T82yw3j-_Upp",
        "outputId": "b81ab822-8637-4003-c327-09800289c431"
      },
      "outputs": [
        {
          "output_type": "stream",
          "name": "stdout",
          "text": [
            "請輸入年份1600\n",
            "閏年\n"
          ]
        }
      ],
      "source": [
        "a=float(input(\"請輸入年份\"))\n",
        "if a<=1582:\n",
        "  if a%4==0:\n",
        "    print(\"閏年\")\n",
        "  else:\n",
        "    print(\"平年\")\n",
        "elif a>1582:\n",
        "  if a%4==0:\n",
        "    if a%100==0:\n",
        "      if a%400==0:\n",
        "        print(\"閏年\")\n",
        "      else:\n",
        "        print(\"平年\")\n",
        "    else:\n",
        "      print(\"閏年\")\n",
        "  else:\n",
        "    print(\"平年\")\n",
        "\n"
      ]
    }
  ]
}