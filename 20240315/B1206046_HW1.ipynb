{
  "nbformat": 4,
  "nbformat_minor": 0,
  "metadata": {
    "colab": {
      "provenance": []
    },
    "kernelspec": {
      "name": "python3",
      "display_name": "Python 3"
    },
    "language_info": {
      "name": "python"
    }
  },
  "cells": [
    {
      "cell_type": "code",
      "execution_count": null,
      "metadata": {
        "colab": {
          "base_uri": "https://localhost:8080/"
        },
        "id": "gc7xzenm5LwS",
        "outputId": "83cb35b2-7618-4087-dc95-5606c7ff12a4"
      },
      "outputs": [
        {
          "output_type": "stream",
          "name": "stdout",
          "text": [
            "I'm a student\n"
          ]
        }
      ],
      "source": [
        "a=\"I'm a student\"\n",
        "print(a)"
      ]
    },
    {
      "cell_type": "code",
      "source": [
        "x1=float(input(\"Enter x-coordinate number\"))\n",
        "y1=float(input(\"Enter y-coordinate number\"))\n",
        "x2=float(input(\"Enter x-coordinate number\"))\n",
        "y2=float(input(\"Enter y-coordinate number\"))\n",
        "Distance=((x1-x2)**2+(y1-y2)**2)**0.5\n",
        "print(Distance)"
      ],
      "metadata": {
        "colab": {
          "base_uri": "https://localhost:8080/"
        },
        "id": "ydt1F8wA5mdd",
        "outputId": "a42d1a54-c5fc-4962-f004-17f2093af47b"
      },
      "execution_count": null,
      "outputs": [
        {
          "output_type": "stream",
          "name": "stdout",
          "text": [
            "Enter x-coordinate number9\n",
            "Enter y-coordinate number3\n",
            "Enter x-coordinate number6\n",
            "Enter y-coordinate number8\n",
            "5.830951894845301\n"
          ]
        }
      ]
    },
    {
      "cell_type": "code",
      "source": [
        "a=float(input(\"體重\"))\n",
        "b=float(input(\"身高\"))\n",
        "a/=b**2\n",
        "print(a)"
      ],
      "metadata": {
        "colab": {
          "base_uri": "https://localhost:8080/"
        },
        "id": "_4zdKV4HTw5m",
        "outputId": "dd2cc4fe-a190-4637-dc2e-5cd5776fbc84"
      },
      "execution_count": null,
      "outputs": [
        {
          "output_type": "stream",
          "name": "stdout",
          "text": [
            "體重60\n",
            "身高1.6\n",
            "23.437499999999996\n"
          ]
        }
      ]
    }
  ]
}